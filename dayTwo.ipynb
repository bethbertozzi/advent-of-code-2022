{
  "nbformat": 4,
  "nbformat_minor": 0,
  "metadata": {
    "colab": {
      "provenance": [],
      "authorship_tag": "ABX9TyOV/xqOcgDCm2Q4CgJCjQUW",
      "include_colab_link": true
    },
    "kernelspec": {
      "name": "python3",
      "display_name": "Python 3"
    },
    "language_info": {
      "name": "python"
    }
  },
  "cells": [
    {
      "cell_type": "markdown",
      "metadata": {
        "id": "view-in-github",
        "colab_type": "text"
      },
      "source": [
        "<a href=\"https://colab.research.google.com/github/bethbertozzi/advent-of-code-2022/blob/main/dayTwo.ipynb\" target=\"_parent\"><img src=\"https://colab.research.google.com/assets/colab-badge.svg\" alt=\"Open In Colab\"/></a>"
      ]
    },
    {
      "cell_type": "code",
      "execution_count": null,
      "metadata": {
        "colab": {
          "base_uri": "https://localhost:8080/"
        },
        "id": "J6f0roudSKM7",
        "outputId": "141ec798-0f30-477c-ddbc-e1ce6b3c2b73"
      },
      "outputs": [
        {
          "output_type": "stream",
          "name": "stdout",
          "text": [
            "12679\n"
          ]
        }
      ],
      "source": [
        "import os\n",
        "filename = \"day_two_data.txt\"\n",
        "rounds = open(filename).read().splitlines()\n",
        "\n",
        "def wins(opponent, player):\n",
        "  if (opponent == 'A' and player == 'Y'): #paper beats rock\n",
        "    return True\n",
        "  if (opponent == 'C' and player == 'X'): #rock beats scissors\n",
        "    return True\n",
        "  if(opponent == 'B' and player == 'Z'): #scissors beats paper\n",
        "    return True\n",
        "  return False\n",
        "\n",
        "total_score = 0\n",
        "shape_to_score = {'X': 1, 'Y': 2, 'Z': 3}\n",
        "opponent_to_player_shape = {'A': 'X', 'B': 'Y', 'C': 'Z'}\n",
        "\n",
        "\n",
        "for round in rounds:\n",
        "  opponent, player = round.split()\n",
        "  total_score += shape_to_score[player]\n",
        "\n",
        "  if player == opponent_to_player_shape[opponent]:\n",
        "    total_score += 3\n",
        "  elif wins(opponent, player):\n",
        "    total_score += 6\n",
        "\n",
        "print(total_score)\n",
        "\n",
        "\n",
        "\n",
        "\n",
        "\n",
        "  \n"
      ]
    },
    {
      "cell_type": "code",
      "source": [
        "import os\n",
        "filename = \"day_two_data.txt\"\n",
        "rounds = open(filename).read().splitlines()\n",
        "\n",
        "def find_play(opponent, result):\n",
        "\n",
        "  if (opponent == 'rock'): \n",
        "    if (result == 'win'): return 'paper'\n",
        "    else: return 'scissors'\n",
        "\n",
        "  if (opponent == 'scissors'):\n",
        "    if (result == 'win'): return 'rock'\n",
        "    else: return 'paper'\n",
        "\n",
        "  if(opponent == 'paper'):\n",
        "    if (result == 'win'): return 'scissors'\n",
        "    else: return 'rock'\n",
        "\n",
        "code_to_shape = {'A': 'rock', 'B':'paper', 'C':'scissors'}\n",
        "code_to_result = {'X': 'lose', 'Y': 'draw', 'Z': 'win'}\n",
        "shape_to_score = {'rock': 1, 'paper': 2, 'scissors': 3}\n",
        "\n",
        "total_score = 0\n",
        "\n",
        "for round in rounds:\n",
        "  opponent_code, result_code = round.split()\n",
        "\n",
        "  opponent = code_to_shape[opponent_code]\n",
        "  result = code_to_result[result_code]\n",
        "\n",
        "  if result == 'draw':\n",
        "    total_score += 3\n",
        "    total_score += shape_to_score[opponent]\n",
        "\n",
        "  elif result == 'win':\n",
        "    total_score += 6\n",
        "    total_score += shape_to_score[find_play(opponent, result)]\n",
        "  else:\n",
        "    total_score += shape_to_score[find_play(opponent, result)]\n",
        "\n",
        "print(total_score)"
      ],
      "metadata": {
        "colab": {
          "base_uri": "https://localhost:8080/"
        },
        "id": "iI9vOyXHYxv5",
        "outputId": "103d0add-89e0-448a-9497-098a4bed2f29"
      },
      "execution_count": null,
      "outputs": [
        {
          "output_type": "stream",
          "name": "stdout",
          "text": [
            "14470\n"
          ]
        }
      ]
    }
  ]
}